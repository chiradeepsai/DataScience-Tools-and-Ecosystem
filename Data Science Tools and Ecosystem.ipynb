{
 "cells": [
  {
   "cell_type": "markdown",
   "id": "1170f9af",
   "metadata": {},
   "source": [
    "# Data Science Tools and Ecosystem"
   ]
  },
  {
   "cell_type": "markdown",
   "id": "b54d7f65",
   "metadata": {},
   "source": [
    "# Exercise 3 - Create a markdown cell for an introduction\n",
    "\n",
    "# In this notebook, Data Science Tools and Ecosystem are summarized.\n",
    "\n",
    "Objectives:\n",
    "\n",
    "- List popular languages that Data Scientists use.\n",
    "- List commonly used libraries used by Data Scientists.\n",
    "- Comment on Data Science tools used."
   ]
  },
  {
   "cell_type": "markdown",
   "id": "d9e8793e",
   "metadata": {},
   "source": [
    "# Exercise 4 - Create a markdown cell to list data science languages\n",
    "\n",
    "# Some of the popular languages that Data Scientists use are:\n",
    "\n",
    "1. Python.\n",
    "2. R.\n",
    "3. SQL.\n",
    "4. Java.\n",
    "5. Julia.\n",
    "6. Scala.\n",
    "7. C/C++.\n",
    "8. JavaScript."
   ]
  },
  {
   "cell_type": "markdown",
   "id": "d3dd9481",
   "metadata": {},
   "source": [
    "# Exercise 5 - Create a markdown cell to list data science libraries. (3 pts)\n",
    "\n",
    "# Some of the commonly used libraries used by Data Scientists include:\n",
    "\n",
    "1. TensorFlow.\n",
    "2. NumPy.\n",
    "3. SciPy.\n",
    "4. Pandas.\n",
    "5. Matplotlib.\n",
    "6. Keras.\n",
    "7. SciKit-Learn.\n",
    "8. PyTorch.\n",
    "9. Scrapy.\n",
    "10. BeautifulSoup.\n",
    "11. LightGBM.\n",
    "12. ELI5.\n",
    "13. Theano.\n",
    "14. NuPIC.\n",
    "15. Ramp.\n",
    "16. Pipenv.\n",
    "17. Bob.\n",
    "18. PyBrain.\n",
    "19. Caffe2.\n",
    "20. Chainer."
   ]
  },
  {
   "cell_type": "markdown",
   "id": "df59acad",
   "metadata": {},
   "source": [
    "# Exercise 6 - Create a markdown cell with a table of Data Science tools\n",
    "\n",
    "|Data Science Tools|\n",
    "|------------------|\n",
    "|Apache Spark|\n",
    "|BigML|\n",
    "|SAS. It is one of those data science tools which are specifically designed for statistical operation|\t"
   ]
  },
  {
   "cell_type": "markdown",
   "id": "1124fe49",
   "metadata": {},
   "source": [
    "# Exercise 7 - Create a markdown cell introducing arithmetic expression examples. (1 pt)\n",
    "\n",
    "# Below are a few examples of evaluating arithmetic expressions in Python"
   ]
  },
  {
   "cell_type": "code",
   "execution_count": 12,
   "id": "6ac3e519",
   "metadata": {},
   "outputs": [
    {
     "data": {
      "text/plain": [
       "11"
      ]
     },
     "execution_count": 12,
     "metadata": {},
     "output_type": "execute_result"
    }
   ],
   "source": [
    "# Arithmetic operations\n",
    "code = compile(\"8 + 3\", \"<string>\", \"eval\")\n",
    "eval(code)\n",
    "# Result: 11"
   ]
  },
  {
   "cell_type": "code",
   "execution_count": 13,
   "id": "c53e9864",
   "metadata": {},
   "outputs": [
    {
     "data": {
      "text/plain": [
       "60"
      ]
     },
     "execution_count": 13,
     "metadata": {},
     "output_type": "execute_result"
    }
   ],
   "source": [
    "code1 = compile(\"(9 + 3) * 5\", \"<string>\", \"eval\")\n",
    "eval(code1)\n",
    "# Result: 60"
   ]
  },
  {
   "cell_type": "markdown",
   "id": "f7ac9206",
   "metadata": {},
   "source": [
    "# Exercise 8 - Create a code cell to multiply and add numbers.(2 pts)\n",
    "\n",
    "# This a simple arithmetic expression to mutiply then add integers"
   ]
  },
  {
   "cell_type": "code",
   "execution_count": 14,
   "id": "8a442ad8",
   "metadata": {},
   "outputs": [
    {
     "data": {
      "text/plain": [
       "41"
      ]
     },
     "execution_count": 14,
     "metadata": {},
     "output_type": "execute_result"
    }
   ],
   "source": [
    "(4*8)+9\n",
    "# Result: 41"
   ]
  },
  {
   "cell_type": "markdown",
   "id": "9c32d1a3",
   "metadata": {},
   "source": [
    "# Exercise 9 - Create a code cell to convert minutes to hours. (2 pts)\n",
    "\n",
    "# This will convert 380 minutes to hours by diving by 60"
   ]
  },
  {
   "cell_type": "code",
   "execution_count": 15,
   "id": "12e8873b",
   "metadata": {},
   "outputs": [
    {
     "name": "stdout",
     "output_type": "stream",
     "text": [
      "0 days, 6.333333333333333 hours, 0 mins. \n"
     ]
    }
   ],
   "source": [
    "days = 0\n",
    "hours = 0\n",
    "mins = 0\n",
    "\n",
    "time = 380\n",
    "#days = time / 1440\n",
    "leftover_minutes = time % 1440\n",
    "hours = leftover_minutes / 60\n",
    "#mins = time - (days*1440) - (hours*60)\n",
    "print(str(days) + \" days, \" + str(hours) + \" hours, \" + str(mins) +  \" mins. \")\n",
    "\n",
    "# Result: 6.3333333333333335 hours"
   ]
  },
  {
   "cell_type": "markdown",
   "id": "59046069",
   "metadata": {},
   "source": [
    "# Exercise 10 -Insert a markdown cell to list Objectives.\n",
    "\n",
    "Below the introduction cell created in Exercise 3, insert a new markdown cell to list the objectives that this notebook covered (i.e. some of the key takeaways from the course). In this new cell start with an introductory line titled: Objectives: in bold font. Then using an unordered list (bullets) indicate 3 to 5 items covered in this notebook, such as List popular languages for Data Science."
   ]
  },
  {
   "cell_type": "markdown",
   "id": "5f373266",
   "metadata": {},
   "source": [
    "# Exercise 11 - Create a markdown cell to indicate the Author’s name.\n",
    "\n",
    "# Author:\n",
    "Chiradeep Sai Chandra Gummadi"
   ]
  }
 ],
 "metadata": {
  "kernelspec": {
   "display_name": "Python 3 (ipykernel)",
   "language": "python",
   "name": "python3"
  },
  "language_info": {
   "codemirror_mode": {
    "name": "ipython",
    "version": 3
   },
   "file_extension": ".py",
   "mimetype": "text/x-python",
   "name": "python",
   "nbconvert_exporter": "python",
   "pygments_lexer": "ipython3",
   "version": "3.11.4"
  }
 },
 "nbformat": 4,
 "nbformat_minor": 5
}
